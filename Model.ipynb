{
 "cells": [
  {
   "cell_type": "markdown",
   "metadata": {
    "id": "view-in-github",
    "colab_type": "text"
   },
   "source": [
    "<a href=\"https://colab.research.google.com/github/Hamza-Ali0237/CIFAR10-Web_App/blob/main/Model.ipynb\" target=\"_parent\"><img src=\"https://colab.research.google.com/assets/colab-badge.svg\" alt=\"Open In Colab\"/></a>"
   ]
  },
  {
   "cell_type": "markdown",
   "source": [
    "## Importing Main Libraries"
   ],
   "metadata": {
    "id": "Xy0n9-wEByyr"
   }
  },
  {
   "cell_type": "code",
   "execution_count": 1,
   "metadata": {
    "id": "6M1PFTq3BZp_",
    "ExecuteTime": {
     "end_time": "2024-02-12T07:58:28.697382738Z",
     "start_time": "2024-02-12T07:58:26.506478477Z"
    }
   },
   "outputs": [
    {
     "name": "stderr",
     "output_type": "stream",
     "text": [
      "2024-02-12 12:58:27.051274: I tensorflow/core/util/port.cc:113] oneDNN custom operations are on. You may see slightly different numerical results due to floating-point round-off errors from different computation orders. To turn them off, set the environment variable `TF_ENABLE_ONEDNN_OPTS=0`.\n",
      "2024-02-12 12:58:27.087329: E external/local_xla/xla/stream_executor/cuda/cuda_dnn.cc:9261] Unable to register cuDNN factory: Attempting to register factory for plugin cuDNN when one has already been registered\n",
      "2024-02-12 12:58:27.087362: E external/local_xla/xla/stream_executor/cuda/cuda_fft.cc:607] Unable to register cuFFT factory: Attempting to register factory for plugin cuFFT when one has already been registered\n",
      "2024-02-12 12:58:27.088264: E external/local_xla/xla/stream_executor/cuda/cuda_blas.cc:1515] Unable to register cuBLAS factory: Attempting to register factory for plugin cuBLAS when one has already been registered\n",
      "2024-02-12 12:58:27.093977: I tensorflow/core/platform/cpu_feature_guard.cc:182] This TensorFlow binary is optimized to use available CPU instructions in performance-critical operations.\n",
      "To enable the following instructions: AVX2 AVX512F AVX512_VNNI FMA, in other operations, rebuild TensorFlow with the appropriate compiler flags.\n",
      "2024-02-12 12:58:27.818322: W tensorflow/compiler/tf2tensorrt/utils/py_utils.cc:38] TF-TRT Warning: Could not find TensorRT\n"
     ]
    }
   ],
   "source": [
    "# from google.colab import drive\n",
    "\n",
    "import numpy as np\n",
    "import matplotlib.pyplot as plt\n",
    "\n",
    "import tensorflow as tf\n",
    "from tensorflow.keras.datasets import cifar10\n",
    "from tensorflow.keras.utils import to_categorical\n",
    "\n",
    "from tensorflow.keras.applications import ResNet50\n",
    "from tensorflow.keras import layers\n",
    "from tensorflow.keras import models\n",
    "from tensorflow.keras.models import Sequential, Model, load_model\n",
    "from tensorflow.keras.layers import Dense, GlobalMaxPooling2D\n",
    "from tensorflow.keras.optimizers import Adam\n",
    "from tensorflow.keras import optimizers\n",
    "from tensorflow.keras.callbacks import EarlyStopping, ModelCheckpoint"
   ]
  },
  {
   "cell_type": "markdown",
   "source": [
    "## Mounting Google Drive"
   ],
   "metadata": {
    "id": "z7jT3messa0b"
   }
  },
  {
   "cell_type": "code",
   "source": [
    "# drive.mount('/content/drive')"
   ],
   "metadata": {
    "id": "EyMONhHqsefZ",
    "ExecuteTime": {
     "end_time": "2024-02-12T07:58:28.705153497Z",
     "start_time": "2024-02-12T07:58:28.700100094Z"
    }
   },
   "execution_count": 2,
   "outputs": []
  },
  {
   "cell_type": "markdown",
   "source": [
    "## Loading The Dataset"
   ],
   "metadata": {
    "id": "Zt6OgfGHB225"
   }
  },
  {
   "cell_type": "code",
   "source": [
    "(X_train, y_train), (X_test, y_test) = cifar10.load_data()"
   ],
   "metadata": {
    "id": "UzSzyBPrB4iK",
    "ExecuteTime": {
     "end_time": "2024-02-12T08:09:24.824461433Z",
     "start_time": "2024-02-12T07:58:28.704394155Z"
    }
   },
   "execution_count": 3,
   "outputs": [
    {
     "name": "stdout",
     "output_type": "stream",
     "text": [
      "Downloading data from https://www.cs.toronto.edu/~kriz/cifar-10-python.tar.gz\n",
      "170498071/170498071 [==============================] - 652s 4us/step\n"
     ]
    }
   ]
  },
  {
   "cell_type": "code",
   "source": [
    "num_of_classes = 10\n",
    "\n",
    "class_names = ['airplane', 'automobile', 'bird', 'cat', 'deer',\n",
    "               'dog', 'frog', 'horse', 'ship', 'truck']\n",
    "\n",
    "print(class_names)"
   ],
   "metadata": {
    "id": "Ne9b2IRQ2Pf_",
    "ExecuteTime": {
     "end_time": "2024-02-12T08:09:24.830542295Z",
     "start_time": "2024-02-12T08:09:24.826149986Z"
    }
   },
   "execution_count": 4,
   "outputs": [
    {
     "name": "stdout",
     "output_type": "stream",
     "text": [
      "['airplane', 'automobile', 'bird', 'cat', 'deer', 'dog', 'frog', 'horse', 'ship', 'truck']\n"
     ]
    }
   ]
  },
  {
   "cell_type": "markdown",
   "source": [
    "### Visualising The Data"
   ],
   "metadata": {
    "id": "9CVh5V7tC95i"
   }
  },
  {
   "cell_type": "code",
   "source": [
    "# Display images with class labels\n",
    "plt.figure(figsize=(15, 3))\n",
    "\n",
    "for i in range(5):\n",
    "    plt.subplot(1, 5, i+1)\n",
    "    plt.imshow(X_train[i])\n",
    "    plt.title(class_names[y_train[i][0]])\n",
    "    plt.axis('off')\n",
    "\n",
    "plt.show()"
   ],
   "metadata": {
    "colab": {
     "base_uri": "https://localhost:8080/",
     "height": 259
    },
    "id": "CqVEnH3cDAZu",
    "outputId": "26a36a3a-d788-48a2-d45e-51e630df26cf",
    "ExecuteTime": {
     "end_time": "2024-02-12T08:09:25.081214698Z",
     "start_time": "2024-02-12T08:09:24.831532065Z"
    }
   },
   "execution_count": 5,
   "outputs": [
    {
     "data": {
      "text/plain": "<Figure size 1500x300 with 5 Axes>",
      "image/png": "[encoded data removed]"
     },
     "metadata": {},
     "output_type": "display_data"
    }
   ]
  },
  {
   "cell_type": "markdown",
   "source": [
    "### Normalizing the data"
   ],
   "metadata": {
    "id": "Hyy67-ySCFDc"
   }
  },
  {
   "cell_type": "code",
   "source": [
    "X_train, X_test = X_train/255. , X_test/255."
   ],
   "metadata": {
    "id": "GWHTLSWOCHgO",
    "ExecuteTime": {
     "end_time": "2024-02-12T08:09:25.419606518Z",
     "start_time": "2024-02-12T08:09:25.080920321Z"
    }
   },
   "execution_count": 6,
   "outputs": []
  },
  {
   "cell_type": "markdown",
   "source": [
    "### One-hot Encoding"
   ],
   "metadata": {
    "id": "xajLn_Q-CV03"
   }
  },
  {
   "cell_type": "code",
   "source": [
    "num_classes = 10\n",
    "\n",
    "y_train_categorical = to_categorical(y_train)\n",
    "y_test_categorical = to_categorical(y_test)"
   ],
   "metadata": {
    "id": "Mj9y6ffyCYkO",
    "ExecuteTime": {
     "end_time": "2024-02-12T08:09:25.464409433Z",
     "start_time": "2024-02-12T08:09:25.421034162Z"
    }
   },
   "execution_count": 7,
   "outputs": []
  },
  {
   "cell_type": "code",
   "source": [
    "# Display dataset shapes\n",
    "print(\"x_train shape:\", X_train.shape)\n",
    "print(\"y_train shape:\", y_train.shape)\n",
    "print(\"x_test shape:\", X_test.shape)\n",
    "print(\"y_test shape:\", y_test.shape)"
   ],
   "metadata": {
    "id": "dXeKr_bGCrR0",
    "ExecuteTime": {
     "end_time": "2024-02-12T08:09:25.465392241Z",
     "start_time": "2024-02-12T08:09:25.464286717Z"
    }
   },
   "execution_count": 8,
   "outputs": [
    {
     "name": "stdout",
     "output_type": "stream",
     "text": [
      "x_train shape: (50000, 32, 32, 3)\n",
      "y_train shape: (50000, 1)\n",
      "x_test shape: (10000, 32, 32, 3)\n",
      "y_test shape: (10000, 1)\n"
     ]
    }
   ]
  },
  {
   "cell_type": "markdown",
   "source": [
    "## Creating Model (ResNet50)"
   ],
   "metadata": {
    "id": "_DeM9hsUGaSh"
   }
  },
  {
   "cell_type": "code",
   "source": [
    "res_model = ResNet50(\n",
    "    weights='imagenet',\n",
    "    include_top=False,\n",
    "    input_shape=(256, 256, 3)\n",
    "    )\n",
    "\n",
    "# To freeze ResNet50 model layers\n",
    "# for layer in res_model.layers:\n",
    "#   layer.trainable = False"
   ],
   "metadata": {
    "id": "ahnYyZX8C4op",
    "ExecuteTime": {
     "end_time": "2024-02-12T08:09:28.775511868Z",
     "start_time": "2024-02-12T08:09:25.464499409Z"
    }
   },
   "execution_count": 9,
   "outputs": [
    {
     "name": "stderr",
     "output_type": "stream",
     "text": [
      "2024-02-12 13:09:27.135433: I tensorflow/core/common_runtime/gpu/gpu_device.cc:1929] Created device /job:localhost/replica:0/task:0/device:GPU:0 with 6615 MB memory:  -> device: 0, name: NVIDIA GeForce RTX 2080 SUPER, pci bus id: 0000:17:00.0, compute capability: 7.5\n",
      "2024-02-12 13:09:27.136001: I tensorflow/core/common_runtime/gpu/gpu_device.cc:1929] Created device /job:localhost/replica:0/task:0/device:GPU:1 with 6307 MB memory:  -> device: 1, name: NVIDIA GeForce RTX 2080 SUPER, pci bus id: 0000:65:00.0, compute capability: 7.5\n"
     ]
    }
   ]
  },
  {
   "cell_type": "code",
   "source": [
    "model = Sequential()\n",
    "model.add(layers.UpSampling2D((2,2)))\n",
    "model.add(layers.UpSampling2D((2,2)))\n",
    "model.add(layers.UpSampling2D((2,2)))\n",
    "model.add(res_model)\n",
    "model.add(layers.Flatten())\n",
    "model.add(layers.BatchNormalization())\n",
    "model.add(layers.Dense(128, activation='relu'))\n",
    "model.add(layers.Dropout(0.5))\n",
    "model.add(layers.BatchNormalization())\n",
    "model.add(layers.Dense(64, activation='relu'))\n",
    "model.add(layers.Dropout(0.5))\n",
    "model.add(layers.BatchNormalization())\n",
    "model.add(layers.Dense(num_of_classes, activation='softmax'))"
   ],
   "metadata": {
    "id": "gkqb1nBLJmnV",
    "ExecuteTime": {
     "end_time": "2024-02-12T08:09:28.808104504Z",
     "start_time": "2024-02-12T08:09:28.779019501Z"
    }
   },
   "execution_count": 10,
   "outputs": []
  },
  {
   "cell_type": "markdown",
   "source": [
    "## Training The Model"
   ],
   "metadata": {
    "id": "UKXTb_FkecQ4"
   }
  },
  {
   "cell_type": "code",
   "source": [
    "# Flattening Y_train to avoid error\n",
    "y_train_integer = y_train.reshape(-1)"
   ],
   "metadata": {
    "id": "3bx4oSTRLteB",
    "ExecuteTime": {
     "end_time": "2024-02-12T08:09:28.816257369Z",
     "start_time": "2024-02-12T08:09:28.804632847Z"
    }
   },
   "execution_count": 11,
   "outputs": []
  },
  {
   "cell_type": "code",
   "source": [
    "model.compile(optimizer=optimizers.RMSprop(learning_rate=2e-5), loss='sparse_categorical_crossentropy', metrics=['acc'])"
   ],
   "metadata": {
    "id": "GLbvbi56KD6W",
    "ExecuteTime": {
     "end_time": "2024-02-12T08:09:28.841185637Z",
     "start_time": "2024-02-12T08:09:28.807779712Z"
    }
   },
   "execution_count": 12,
   "outputs": []
  },
  {
   "cell_type": "code",
   "source": [
    "# Define callbacks\n",
    "early_stopping = EarlyStopping(\n",
    "    monitor='val_accuracy',\n",
    "    patience=2,\n",
    "    restore_best_weights=True,\n",
    "    verbose=1\n",
    ")"
   ],
   "metadata": {
    "id": "lW9y7jnitR7X",
    "ExecuteTime": {
     "end_time": "2024-02-12T08:09:28.868394216Z",
     "start_time": "2024-02-12T08:09:28.827957493Z"
    }
   },
   "execution_count": 13,
   "outputs": []
  },
  {
   "cell_type": "code",
   "source": [
    "model_checkpoint = ModelCheckpoint(\n",
    "    filepath='/home/craib/Desktop/CIFAR10-Web_App/ResNet50_cifar10_best_2.h5',\n",
    "    monitor='val_acc',\n",
    "    save_best_only=True,\n",
    "    save_weights_only=False,\n",
    "    mode='max',\n",
    "    verbose=1\n",
    ")"
   ],
   "metadata": {
    "id": "YQu5dJZltTUM",
    "ExecuteTime": {
     "end_time": "2024-02-12T09:02:34.778627339Z",
     "start_time": "2024-02-12T09:02:34.734589902Z"
    }
   },
   "execution_count": 16,
   "outputs": []
  },
  {
   "cell_type": "code",
   "source": [
    "history = model.fit(X_train, y_train_integer, validation_split=0.1, epochs=15, callbacks=[early_stopping, model_checkpoint])"
   ],
   "metadata": {
    "id": "P7zLu4eIe-yK",
    "is_executing": true,
    "ExecuteTime": {
     "start_time": "2024-02-12T09:02:35.006653311Z"
    }
   },
   "execution_count": null,
   "outputs": [
    {
     "name": "stdout",
     "output_type": "stream",
     "text": [
      "Epoch 1/15\n",
      "1407/1407 [==============================] - ETA: 0s - loss: 0.8466 - acc: 0.7615WARNING:tensorflow:Early stopping conditioned on metric `val_accuracy` which is not available. Available metrics are: loss,acc,val_loss,val_acc\n",
      "\n",
      "Epoch 1: val_acc improved from -inf to 0.91480, saving model to /home/craib/Desktop/CIFAR10-Web_App/ResNet50_cifar10_best_2.h5\n"
     ]
    },
    {
     "name": "stderr",
     "output_type": "stream",
     "text": [
      "/home/craib/anaconda3/lib/python3.11/site-packages/keras/src/engine/training.py:3103: UserWarning: You are saving your model as an HDF5 file via `model.save()`. This file format is considered legacy. We recommend using instead the native Keras format, e.g. `model.save('my_model.keras')`.\n",
      "  saving_api.save_model(\n"
     ]
    },
    {
     "name": "stdout",
     "output_type": "stream",
     "text": [
      "1407/1407 [==============================] - 313s 222ms/step - loss: 0.8466 - acc: 0.7615 - val_loss: 0.3593 - val_acc: 0.9148\n",
      "Epoch 2/15\n",
      "1407/1407 [==============================] - ETA: 0s - loss: 0.6101 - acc: 0.8514WARNING:tensorflow:Early stopping conditioned on metric `val_accuracy` which is not available. Available metrics are: loss,acc,val_loss,val_acc\n",
      "\n",
      "Epoch 2: val_acc did not improve from 0.91480\n",
      "1407/1407 [==============================] - 313s 223ms/step - loss: 0.6101 - acc: 0.8514 - val_loss: 0.3318 - val_acc: 0.9100\n",
      "Epoch 3/15\n",
      "1407/1407 [==============================] - ETA: 0s - loss: 0.4578 - acc: 0.8986WARNING:tensorflow:Early stopping conditioned on metric `val_accuracy` which is not available. Available metrics are: loss,acc,val_loss,val_acc\n",
      "\n",
      "Epoch 3: val_acc improved from 0.91480 to 0.93080, saving model to /home/craib/Desktop/CIFAR10-Web_App/ResNet50_cifar10_best_2.h5\n",
      "1407/1407 [==============================] - 314s 223ms/step - loss: 0.4578 - acc: 0.8986 - val_loss: 0.2662 - val_acc: 0.9308\n",
      "Epoch 4/15\n",
      "1407/1407 [==============================] - ETA: 0s - loss: 0.3511 - acc: 0.9301WARNING:tensorflow:Early stopping conditioned on metric `val_accuracy` which is not available. Available metrics are: loss,acc,val_loss,val_acc\n",
      "\n",
      "Epoch 4: val_acc improved from 0.93080 to 0.93900, saving model to /home/craib/Desktop/CIFAR10-Web_App/ResNet50_cifar10_best_2.h5\n",
      "1407/1407 [==============================] - 314s 223ms/step - loss: 0.3511 - acc: 0.9301 - val_loss: 0.2212 - val_acc: 0.9390\n",
      "Epoch 5/15\n",
      "1407/1407 [==============================] - ETA: 0s - loss: 0.2737 - acc: 0.9498WARNING:tensorflow:Early stopping conditioned on metric `val_accuracy` which is not available. Available metrics are: loss,acc,val_loss,val_acc\n",
      "\n",
      "Epoch 5: val_acc improved from 0.93900 to 0.94060, saving model to /home/craib/Desktop/CIFAR10-Web_App/ResNet50_cifar10_best_2.h5\n",
      "1407/1407 [==============================] - 313s 223ms/step - loss: 0.2737 - acc: 0.9498 - val_loss: 0.2156 - val_acc: 0.9406\n",
      "Epoch 6/15\n",
      "1407/1407 [==============================] - ETA: 0s - loss: 0.2196 - acc: 0.9623WARNING:tensorflow:Early stopping conditioned on metric `val_accuracy` which is not available. Available metrics are: loss,acc,val_loss,val_acc\n",
      "\n",
      "Epoch 6: val_acc improved from 0.94060 to 0.94500, saving model to /home/craib/Desktop/CIFAR10-Web_App/ResNet50_cifar10_best_2.h5\n",
      "1407/1407 [==============================] - 315s 224ms/step - loss: 0.2196 - acc: 0.9623 - val_loss: 0.2065 - val_acc: 0.9450\n",
      "Epoch 7/15\n",
      "1407/1407 [==============================] - ETA: 0s - loss: 0.1762 - acc: 0.9722WARNING:tensorflow:Early stopping conditioned on metric `val_accuracy` which is not available. Available metrics are: loss,acc,val_loss,val_acc\n",
      "\n",
      "Epoch 7: val_acc did not improve from 0.94500\n",
      "1407/1407 [==============================] - 314s 223ms/step - loss: 0.1762 - acc: 0.9722 - val_loss: 0.2066 - val_acc: 0.9430\n",
      "Epoch 8/15\n",
      "1407/1407 [==============================] - ETA: 0s - loss: 0.1485 - acc: 0.9778WARNING:tensorflow:Early stopping conditioned on metric `val_accuracy` which is not available. Available metrics are: loss,acc,val_loss,val_acc\n",
      "\n",
      "Epoch 8: val_acc improved from 0.94500 to 0.94700, saving model to /home/craib/Desktop/CIFAR10-Web_App/ResNet50_cifar10_best_2.h5\n",
      "1407/1407 [==============================] - 315s 224ms/step - loss: 0.1485 - acc: 0.9778 - val_loss: 0.1968 - val_acc: 0.9470\n",
      "Epoch 9/15\n",
      " 569/1407 [===========>..................] - ETA: 3:01 - loss: 0.1266 - acc: 0.9826"
     ]
    }
   ]
  },
  {
   "cell_type": "markdown",
   "source": [
    "## Save Model To Google Drive"
   ],
   "metadata": {
    "id": "ev0p3MiZottK"
   }
  },
  {
   "cell_type": "code",
   "source": [
    "# drive_save_path = '/content/drive/My Drive/ResNet50_cifar10_2.h5'"
   ],
   "metadata": {
    "id": "zH1SFo59oKN8",
    "is_executing": true
   },
   "execution_count": null,
   "outputs": []
  },
  {
   "cell_type": "code",
   "source": [
    "# model.save(drive_save_path)"
   ],
   "metadata": {
    "id": "nu36EbSFoYV-",
    "is_executing": true
   },
   "execution_count": null,
   "outputs": []
  },
  {
   "cell_type": "code",
   "outputs": [],
   "source": [
    "model.save('ResNet50_cifar10_best_fr.h5')"
   ],
   "metadata": {
    "collapsed": false,
    "is_executing": true
   }
  },
  {
   "cell_type": "markdown",
   "source": [
    "## Evaluate Model Performance"
   ],
   "metadata": {
    "id": "zUDrG4eLrXNH"
   }
  },
  {
   "cell_type": "code",
   "source": [
    "# Loading Model From Drive\n",
    "model_best = load_model('/content/drive/My Drive/ResNet50_cifar10_best.h5')"
   ],
   "metadata": {
    "id": "AR56eQTY626w",
    "is_executing": true
   },
   "execution_count": null,
   "outputs": []
  },
  {
   "cell_type": "code",
   "source": [
    "# plot the loss value\n",
    "plt.plot(history.history['loss'], label='train loss')\n",
    "plt.plot(history.history['val_loss'], label='validation loss')\n",
    "plt.legend()\n",
    "plt.show()"
   ],
   "metadata": {
    "id": "sWRpxBw0fr_F",
    "is_executing": true
   },
   "execution_count": null,
   "outputs": []
  },
  {
   "cell_type": "code",
   "source": [
    "# plot the accuracy value\n",
    "plt.plot(history.history['acc'], label='train accuracy')\n",
    "plt.plot(history.history['val_acc'], label='validation accuracy')\n",
    "plt.legend()\n",
    "plt.show()"
   ],
   "metadata": {
    "id": "ai-F3d8c-gO5",
    "is_executing": true
   },
   "execution_count": null,
   "outputs": []
  },
  {
   "cell_type": "code",
   "source": [
    "# Evaluate model on test data\n",
    "y_test_integer = np.argmax(y_test_categorical, axis=1)\n",
    "eval_result = model_best.evaluate(X_test, y_test_integer)\n",
    "\n",
    "print(\"Test Loss:\", eval_result[0])\n",
    "print(\"Test Accuracy:\", eval_result[1])"
   ],
   "metadata": {
    "id": "qxwpo61OPl1a",
    "is_executing": true
   },
   "execution_count": null,
   "outputs": []
  },
  {
   "cell_type": "code",
   "source": [],
   "metadata": {
    "id": "Ff9PmM-7oeYc",
    "ExecuteTime": {
     "start_time": "2024-02-12T08:15:12.816589003Z"
    }
   },
   "execution_count": null,
   "outputs": []
  }
 ],
 "metadata": {
  "language_info": {
   "name": "python"
  },
  "colab": {
   "provenance": [],
   "gpuType": "T4",
   "include_colab_link": true
  },
  "accelerator": "GPU",
  "kernelspec": {
   "name": "python3",
   "language": "python",
   "display_name": "Python 3 (ipykernel)"
  }
 },
 "nbformat": 4,
 "nbformat_minor": 0
}
